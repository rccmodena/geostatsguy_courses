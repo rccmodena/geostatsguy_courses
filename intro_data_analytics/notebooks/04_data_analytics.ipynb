{
 "cells": [
  {
   "cell_type": "markdown",
   "metadata": {},
   "source": [
    "# 04 Data Analytics: Univariate Statistics"
   ]
  },
  {
   "cell_type": "markdown",
   "metadata": {},
   "source": [
    "## Import libraries"
   ]
  },
  {
   "cell_type": "code",
   "execution_count": 102,
   "metadata": {},
   "outputs": [],
   "source": [
    "import numpy as np\n",
    "import pandas as pd\n",
    "from scipy.stats import skew, kurtosis, iqr\n",
    "import statsmodels.api as sm # recommended import according to the docs\n",
    "from matplotlib import pyplot as plt\n",
    "from matplotlib.colors import LinearSegmentedColormap\n",
    "%matplotlib inline"
   ]
  },
  {
   "cell_type": "markdown",
   "metadata": {},
   "source": [
    "## Dataset parameters"
   ]
  },
  {
   "cell_type": "code",
   "execution_count": 103,
   "metadata": {},
   "outputs": [],
   "source": [
    "datasets_path = \"data/\"\n",
    "delimiter = \"\\t\"\n",
    "filename = \"PorositySample1\"\n",
    "extension = \".csv\""
   ]
  },
  {
   "cell_type": "markdown",
   "metadata": {},
   "source": [
    "## Import PorositySample1"
   ]
  },
  {
   "cell_type": "code",
   "execution_count": 104,
   "metadata": {},
   "outputs": [],
   "source": [
    "sample = pd.read_csv(\n",
    "    datasets_path+filename+extension,\n",
    "    sep=delimiter,\n",
    "    header=0)"
   ]
  },
  {
   "cell_type": "markdown",
   "metadata": {},
   "source": [
    "## Display some data"
   ]
  },
  {
   "cell_type": "code",
   "execution_count": 105,
   "metadata": {},
   "outputs": [
    {
     "data": {
      "text/html": [
       "<div>\n",
       "<style scoped>\n",
       "    .dataframe tbody tr th:only-of-type {\n",
       "        vertical-align: middle;\n",
       "    }\n",
       "\n",
       "    .dataframe tbody tr th {\n",
       "        vertical-align: top;\n",
       "    }\n",
       "\n",
       "    .dataframe thead th {\n",
       "        text-align: right;\n",
       "    }\n",
       "</style>\n",
       "<table border=\"1\" class=\"dataframe\">\n",
       "  <thead>\n",
       "    <tr style=\"text-align: right;\">\n",
       "      <th></th>\n",
       "      <th>Index</th>\n",
       "      <th>Porosity</th>\n",
       "    </tr>\n",
       "  </thead>\n",
       "  <tbody>\n",
       "    <tr>\n",
       "      <th>0</th>\n",
       "      <td>1</td>\n",
       "      <td>0.15</td>\n",
       "    </tr>\n",
       "    <tr>\n",
       "      <th>1</th>\n",
       "      <td>2</td>\n",
       "      <td>0.11</td>\n",
       "    </tr>\n",
       "    <tr>\n",
       "      <th>2</th>\n",
       "      <td>3</td>\n",
       "      <td>0.11</td>\n",
       "    </tr>\n",
       "    <tr>\n",
       "      <th>3</th>\n",
       "      <td>4</td>\n",
       "      <td>0.02</td>\n",
       "    </tr>\n",
       "    <tr>\n",
       "      <th>4</th>\n",
       "      <td>5</td>\n",
       "      <td>0.11</td>\n",
       "    </tr>\n",
       "  </tbody>\n",
       "</table>\n",
       "</div>"
      ],
      "text/plain": [
       "   Index  Porosity\n",
       "0      1      0.15\n",
       "1      2      0.11\n",
       "2      3      0.11\n",
       "3      4      0.02\n",
       "4      5      0.11"
      ]
     },
     "execution_count": 105,
     "metadata": {},
     "output_type": "execute_result"
    }
   ],
   "source": [
    "sample.head()"
   ]
  },
  {
   "cell_type": "markdown",
   "metadata": {},
   "source": [
    "## Summary Statistics"
   ]
  },
  {
   "cell_type": "markdown",
   "metadata": {},
   "source": [
    "### Variable Porosity"
   ]
  },
  {
   "cell_type": "code",
   "execution_count": 106,
   "metadata": {},
   "outputs": [
    {
     "data": {
      "text/plain": [
       "count    50.000000\n",
       "mean      0.125400\n",
       "std       0.065472\n",
       "min       0.000000\n",
       "25%       0.072500\n",
       "50%       0.120000\n",
       "75%       0.180000\n",
       "max       0.260000\n",
       "Name: Porosity, dtype: float64"
      ]
     },
     "metadata": {},
     "output_type": "display_data"
    },
    {
     "name": "stdout",
     "output_type": "stream",
     "text": [
      "\n",
      "Variance: 0.004287\n",
      "Skew: -0.022885\n",
      "Kurtosis: -0.904548\n",
      "\n",
      "IQR: 0.1075\n",
      "Lower Fence: 0\n",
      "Upper Fence: 0.34125\n",
      "\n",
      "Outliers\n",
      "Lower Outliers: []\n",
      "Upper Outliers: []\n"
     ]
    }
   ],
   "source": [
    "display(sample['Porosity'].describe())\n",
    "print(f\"\\nVariance: {round(sample.loc[:,'Porosity'].var(),6)}\")\n",
    "print(f\"Skew: {round(skew(sample.loc[:,'Porosity']),6)}\")\n",
    "print(f\"Kurtosis: {round(kurtosis(sample.loc[:,'Porosity']),6)}\")\n",
    "\n",
    "sample_iqr = iqr(sample.loc[:,'Porosity'])\n",
    "print(f\"\\nIQR: {round(sample_iqr,6)}\")\n",
    "lower_fence = (np.percentile(sample['Porosity'], 25) - (sample_iqr * 1.5))\n",
    "lower_fence = 0 if lower_fence < 0 else lower_fence\n",
    "upper_fence = np.percentile(sample['Porosity'], 75) + (sample_iqr * 1.5)\n",
    "print(f\"Lower Fence: {round(lower_fence,6)}\")\n",
    "print(f\"Upper Fence: {round(upper_fence,6)}\")\n",
    "\n",
    "print('\\nOutliers')\n",
    "lower_outliers = list(sample[sample['Porosity'] < lower_fence].Porosity)\n",
    "upper_outliers = list(sample[sample['Porosity'] > upper_fence].Porosity)\n",
    "print(f'Lower Outliers: {lower_outliers}')\n",
    "print(f'Upper Outliers: {upper_outliers}')"
   ]
  },
  {
   "cell_type": "markdown",
   "metadata": {},
   "source": [
    "## CDF"
   ]
  },
  {
   "cell_type": "code",
   "execution_count": 148,
   "metadata": {},
   "outputs": [
    {
     "data": {
      "image/png": "[encoded data removed]",
      "text/plain": [
       "<Figure size 576x576 with 1 Axes>"
      ]
     },
     "metadata": {
      "needs_background": "light"
     },
     "output_type": "display_data"
    }
   ],
   "source": [
    "x = sample.sort_values(by='Porosity').Porosity\n",
    "x = x * 100\n",
    "ecdf = sm.distributions.ECDF(x)\n",
    "y = ecdf(x)\n",
    "\n",
    "fig, ax = plt.subplots(figsize=(8, 8))\n",
    "ax.plot(x, y, marker='o', linestyle='-', color='k')\n",
    "plt.title(\"Porosity Sample CDF\")\n",
    "plt.xlabel(\"Porosity (%)\")\n",
    "plt.ylabel(\"Cumulative Probability\")\n",
    "plt.show()"
   ]
  }
 ],
 "metadata": {
  "kernelspec": {
   "display_name": "Python (myenv)",
   "language": "python",
   "name": "myenv"
  },
  "language_info": {
   "codemirror_mode": {
    "name": "ipython",
    "version": 3
   },
   "file_extension": ".py",
   "mimetype": "text/x-python",
   "name": "python",
   "nbconvert_exporter": "python",
   "pygments_lexer": "ipython3",
   "version": "3.8.0"
  }
 },
 "nbformat": 4,
 "nbformat_minor": 4
}
